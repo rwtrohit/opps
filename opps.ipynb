{
  "nbformat": 4,
  "nbformat_minor": 0,
  "metadata": {
    "colab": {
      "provenance": [],
      "toc_visible": true
    },
    "kernelspec": {
      "name": "python3",
      "display_name": "Python 3"
    },
    "language_info": {
      "name": "python"
    }
  },
  "cells": [
    {
      "cell_type": "code",
      "execution_count": null,
      "metadata": {
        "id": "bkhIe1kjGuMK"
      },
      "outputs": [],
      "source": []
    },
    {
      "cell_type": "markdown",
      "source": [
        "Q1. What is Object-Oriented Programming (OOP)?\n",
        "  "
      ],
      "metadata": {
        "id": "Ii1BssJUKp4h"
      }
    },
    {
      "cell_type": "markdown",
      "source": [
        "Ans1)\n",
        "\tObject-oriented programming (OOP) is defined as a programming paradigm (and not a specific language) built on the concept of objects, i.e., a set of data contained in fields, and code, indicating procedures – instead of the usual logic-based system.\n",
        "  "
      ],
      "metadata": {
        "id": "4KXM8km5LItN"
      }
    },
    {
      "cell_type": "markdown",
      "source": [
        "Q2. What is a class in OOP?\n"
      ],
      "metadata": {
        "id": "TWZl9He5LTUZ"
      }
    },
    {
      "cell_type": "markdown",
      "source": [
        "Ans2)\n",
        "\tIn object-oriented programming, a class is a blueprint for creating objects (a particular data structure), providing initial values for state (member variables or attributes), and implementations of behavior (member functions or methods).\n",
        "  "
      ],
      "metadata": {
        "id": "pZP06Bt1LYzc"
      }
    },
    {
      "cell_type": "markdown",
      "source": [
        "Q3. What is an object in OOP"
      ],
      "metadata": {
        "id": "sNn-SuolLb3B"
      }
    },
    {
      "cell_type": "markdown",
      "source": [
        "Ans3)\n",
        "\tObject-oriented programming aims to implement real-world entities like inheritance, hiding, polymorphism, etc in programming. The main aim of OOP is to bind together the data and the functions that operate on them so that no other part of the code can access this data except that function.\n",
        "\n",
        "  "
      ],
      "metadata": {
        "id": "pM5ttvslMIub"
      }
    },
    {
      "cell_type": "markdown",
      "source": [
        "Q4.  What is the difference between abstraction and encapsulation"
      ],
      "metadata": {
        "id": "ck4ZKNM0MNJg"
      }
    },
    {
      "cell_type": "markdown",
      "source": [
        "Ns4)\n",
        "\tEncapsulation is basically binding data members & member functions into a single unit called Class. Whereas Abstraction is basically to hide implementation complexity & provide ease of access to the users.\n",
        "\n",
        "  "
      ],
      "metadata": {
        "id": "F9YgUKyZMRTZ"
      }
    },
    {
      "cell_type": "markdown",
      "source": [
        "Q5.  What are dunder methods in Python"
      ],
      "metadata": {
        "id": "Au4ceZFHMVkE"
      }
    },
    {
      "cell_type": "markdown",
      "source": [
        "Ans5)\n",
        "\tIn Python, dunder methods are methods that allow instances of a class to interact with the built-in functions and operators of the language."
      ],
      "metadata": {
        "id": "6kUL6QQJMZbd"
      }
    },
    {
      "cell_type": "markdown",
      "source": [
        "Q6.  Explain the concept of inheritance in OOPH"
      ],
      "metadata": {
        "id": "7uKSWVXqMcoK"
      }
    },
    {
      "cell_type": "markdown",
      "source": [
        "Ans6)\n",
        "\tIn Object-Oriented Programming (OOP), inheritance is a mechanism where a new class (subclass or child class) inherits properties and behaviors (methods) from an existing class (superclass or parent class), promoting code reusability and hierarchical relationships between classes.\n",
        "  "
      ],
      "metadata": {
        "id": "To6fNZXHMgsU"
      }
    },
    {
      "cell_type": "markdown",
      "source": [
        "Q7.  What is polymorphism in OOP"
      ],
      "metadata": {
        "id": "z5cjuGCVMlhc"
      }
    },
    {
      "cell_type": "markdown",
      "source": [
        "Ans7)\n",
        "\tIn Object-Oriented Programming (OOP), polymorphism allows objects of different classes to be treated as objects of a common superclass, enabling code reusability and flexibility by allowing multiple classes to implement the same method in different ways.\n",
        "\n",
        "  "
      ],
      "metadata": {
        "id": "qv9ftZXnMppP"
      }
    },
    {
      "cell_type": "markdown",
      "source": [
        "Q8.  How is encapsulation achieved in Python"
      ],
      "metadata": {
        "id": "ldl2KFTXMsNk"
      }
    },
    {
      "cell_type": "markdown",
      "source": [
        "Ans8)\n",
        "\tEncapsulation is achieved by declaring a class's data members and methods as either private or protected.\n",
        "\n",
        "  "
      ],
      "metadata": {
        "id": "vZsjQzXpMxgH"
      }
    },
    {
      "cell_type": "markdown",
      "source": [
        "Q9. What is a constructor in Python"
      ],
      "metadata": {
        "id": "B4JhqrBoM5QO"
      }
    },
    {
      "cell_type": "markdown",
      "source": [
        "Ans9)\n",
        "\tConstructors in Python is a special class method for creating and initializing an object instance at that class.\n",
        "\n"
      ],
      "metadata": {
        "id": "tx8fRkh1M0mj"
      }
    },
    {
      "cell_type": "markdown",
      "source": [
        "Q10.  What are class and static methods in Python"
      ],
      "metadata": {
        "id": "yGjvxokkNDgf"
      }
    },
    {
      "cell_type": "markdown",
      "source": [
        "Ans10)\n",
        "\ta class as a tool you use to create your own data structures that contain information about something; you can then use functions (methods) to perform operations on the data you describe."
      ],
      "metadata": {
        "id": "1QoxAEuANIfw"
      }
    },
    {
      "cell_type": "markdown",
      "source": [
        "Q11. What is method overloading in Python"
      ],
      "metadata": {
        "id": "FdMwBebVNLdW"
      }
    },
    {
      "cell_type": "markdown",
      "source": [
        "Ans11)\n",
        "\tIn programming, method overloading means defining multiple methods with the same name but different parameters (number, type, or order) within the same class, allowing the same method name to be used for different tasks depending on the input arguments."
      ],
      "metadata": {
        "id": "AEQc0CFvNQ0U"
      }
    },
    {
      "cell_type": "markdown",
      "source": [
        "Q12. What is method overriding in OOP"
      ],
      "metadata": {
        "id": "cSyd9yEVNTF5"
      }
    },
    {
      "cell_type": "markdown",
      "source": [
        "Ans12)\n",
        "\tIt enables the creation of clean, readable, and flexible code by allowing multiple methods with the same name to handle different scenarios"
      ],
      "metadata": {
        "id": "pP6ylH9YNXa_"
      }
    },
    {
      "cell_type": "markdown",
      "source": [
        "Q13. H What is a property decorator in Python"
      ],
      "metadata": {
        "id": "B2M4U9jyNah9"
      }
    },
    {
      "cell_type": "markdown",
      "source": [
        "Ans13)\n",
        "\tThe decorator is a built-in Python decorator that allows you to turn class methods into properties in a way that's both elegant and user-friendly.\n",
        "\n",
        "  "
      ],
      "metadata": {
        "id": "KrG7IJhCNhkv"
      }
    },
    {
      "cell_type": "markdown",
      "source": [
        "Q14. Why is polymorphism important in OOP"
      ],
      "metadata": {
        "id": "qTeD1z7FNjw2"
      }
    },
    {
      "cell_type": "markdown",
      "source": [
        "Ans14)\n",
        "\tPolymorphism in programming gives a program the ability to redefine methods for derived classes.\n",
        "\n",
        "  "
      ],
      "metadata": {
        "id": "QKukrN_bNn0w"
      }
    },
    {
      "cell_type": "markdown",
      "source": [
        "Q15. What is an abstract class in Python"
      ],
      "metadata": {
        "id": "NuNAna8wNql1"
      }
    },
    {
      "cell_type": "markdown",
      "source": [
        "Ans15)\n",
        "\t we create a basic abstract class Shape which would contain the blueprint for specific shapes to follow.\n",
        "\n",
        "   "
      ],
      "metadata": {
        "id": "MF9hDzKAN1cY"
      }
    },
    {
      "cell_type": "markdown",
      "source": [
        "Q16. H What are the advantages of OOP"
      ],
      "metadata": {
        "id": "21CzWJKQN2B4"
      }
    },
    {
      "cell_type": "markdown",
      "source": [
        "Ans16)\n",
        "\tObject-Oriented Programming (OOP) offers advantages like improved code organization through encapsulation, reusability via inheritance, flexibility with polymorphism, and simplification of complex systems through abstraction, leading to modular, maintainable, and scalable software solutions.\n",
        "\n",
        "  "
      ],
      "metadata": {
        "id": "dhbzLnfDN5_z"
      }
    },
    {
      "cell_type": "markdown",
      "source": [
        "Q17. What is the difference between a class variable and an instance variable"
      ],
      "metadata": {
        "id": "l5Hy1UorN6ey"
      }
    },
    {
      "cell_type": "markdown",
      "source": [
        "Ans17)\n",
        "\tClass variables are defined within the class but outside of any class methods. Instance variables are defined within class methods, typically the constructor.\n",
        "\n",
        "  "
      ],
      "metadata": {
        "id": "vL5Ime3IOAX4"
      }
    },
    {
      "cell_type": "markdown",
      "source": [
        "Q18. What is multiple inheritance in Python"
      ],
      "metadata": {
        "id": "-gfabOglOA6g"
      }
    },
    {
      "cell_type": "markdown",
      "source": [
        "Ans18)\n",
        "\tMultiple inheritances are when a child's class is derived from two or more parent classes.\n",
        "\n",
        "  "
      ],
      "metadata": {
        "id": "goZkANNbOFGO"
      }
    },
    {
      "cell_type": "markdown",
      "source": [
        "Q19. Explain the purpose of ‘’__str__’ and ‘__repr__’ ‘ methods in PythonH"
      ],
      "metadata": {
        "id": "05QIS9RyOFwJ"
      }
    },
    {
      "cell_type": "markdown",
      "source": [
        "Ans19)\n",
        "\t It is intended for end-users and is called by the str() function and the print() function. If __str__ is not defined, Python falls back to using __repr__.\n",
        "\n",
        "    \t It is intended for developers and debugging and is called by the repr() function and in the interactive interpreter. Ideally, the string returned by __repr__ should be a valid Python expression that can be used to recreate the object. If this is not possible\n",
        "\n",
        "       "
      ],
      "metadata": {
        "id": "3vRiVQZlOKc8"
      }
    },
    {
      "cell_type": "markdown",
      "source": [
        "Q20. What is the significance of the ‘super()’ function in Python"
      ],
      "metadata": {
        "id": "TGsniTW9OK9w"
      }
    },
    {
      "cell_type": "markdown",
      "source": [
        "Ans20)\n",
        "\tIn Python, super() is a built-in function that allows access to methods and properties of a parent or superclass from a child or subclass.\n",
        "  "
      ],
      "metadata": {
        "id": "nllog-cZOQZa"
      }
    },
    {
      "cell_type": "markdown",
      "source": [
        "Q21.  What is the significance of the __del__ method in Python"
      ],
      "metadata": {
        "id": "b0SkzB28OQ7A"
      }
    },
    {
      "cell_type": "markdown",
      "source": [
        "Ans21)\n",
        "\tThe __del__ method in Python is a powerful tool for managing resource cleanup when objects are destroyed. It allows you to define specific actions that should be taken when an object is garbage collected, such as closing files, releasing locks, or closing network connections.\n",
        "  "
      ],
      "metadata": {
        "id": "gvTeGMNbOUWB"
      }
    },
    {
      "cell_type": "markdown",
      "source": [
        "Q22. What is the difference between @staticmethod and @classmethod in Python"
      ],
      "metadata": {
        "id": "24cITNFJOU6f"
      }
    },
    {
      "cell_type": "markdown",
      "source": [
        "Ans22)\n",
        "\tA class method receives the class as an implicit first argument, just like an instance method receives the instance\n",
        "  \tThis method can’t access or modify the class state. It is present in a class because it makes sense for the method to be present in class."
      ],
      "metadata": {
        "id": "gUHw-HtyOYx4"
      }
    },
    {
      "cell_type": "markdown",
      "source": [
        "Q23.  How does polymorphism work in Python with inheritance"
      ],
      "metadata": {
        "id": "PP_tLkMgOZ84"
      }
    },
    {
      "cell_type": "markdown",
      "source": [
        "Ans23)\n",
        "\tPolymorphism is a foundational concept in programming that allows entities like functions, methods or operators to behave differently based on the type of data they are handling.\n",
        "\n",
        "  "
      ],
      "metadata": {
        "id": "0qhJTC0eOdxr"
      }
    },
    {
      "cell_type": "markdown",
      "source": [
        "Q24.  What is method chaining in Python OOP"
      ],
      "metadata": {
        "id": "VNzJho4qOemS"
      }
    },
    {
      "cell_type": "markdown",
      "source": [
        "Ans24)\n",
        "\t Method chaining refers to calling multiple methods sequentially on the same object in a single expression.\n",
        "\n",
        "   "
      ],
      "metadata": {
        "id": "Wkgv1tUtOh4M"
      }
    },
    {
      "cell_type": "markdown",
      "source": [
        "Q25.  What is the purpose of the __call__ method in Python"
      ],
      "metadata": {
        "id": "O2HNiY-HOiX9"
      }
    },
    {
      "cell_type": "markdown",
      "source": [
        "Ans25)\n",
        "\t__call__() is to turn your instances into callable objects. In other words, its purpose is to create objects that you can call as you would call a regular function.\n",
        "\n",
        "  "
      ],
      "metadata": {
        "id": "747glF5dOmJX"
      }
    },
    {
      "cell_type": "markdown",
      "source": [
        "1.  Create a parent class Animal with a method speak() that prints a generic message. Create a child class Dog\n",
        "that overrides the speak() method to print \"Bark!\"."
      ],
      "metadata": {
        "id": "mJY2UbILHmIc"
      }
    },
    {
      "cell_type": "code",
      "source": [
        "class Animal:\n",
        "      def speak(self):\n",
        "              print(\"Animal makes a sound\")\n",
        "class Dog(Animal):\n",
        "      def speak(self):\n",
        "              print(\"Bark!\")\n",
        "# Create instances\n",
        "animal = Animal()\n",
        "dog = Dog()\n",
        "\n",
        "# Call the speak method\n",
        "animal.speak()  # Output: Animal makes a sound\n",
        "dog.speak()\n"
      ],
      "metadata": {
        "colab": {
          "base_uri": "https://localhost:8080/"
        },
        "id": "uqNx2XbMHNFS",
        "outputId": "a63a3e3a-cf39-47d7-d27d-980650031a79"
      },
      "execution_count": null,
      "outputs": [
        {
          "output_type": "stream",
          "name": "stdout",
          "text": [
            "Animal makes a sound\n",
            "Bark!\n"
          ]
        }
      ]
    },
    {
      "cell_type": "markdown",
      "source": [
        "2.Write a program to create an abstract class Shape with a method area(). Derive classes Circle and Rectangle\n",
        "from it and implement the area() method in both."
      ],
      "metadata": {
        "id": "8H5qqalPHq90"
      }
    },
    {
      "cell_type": "code",
      "source": [
        "from abc import ABC, abstractmethod\n",
        "import math\n",
        "\n",
        "class Shape(ABC):\n",
        "      @abstractmethod\n",
        "      def area(self):\n",
        "          pass\n",
        "class Circle(Shape):\n",
        "      def __init__(self, radius):\n",
        "              self.radius = radius\n",
        "      def area(self):\n",
        "          return math.pi * (self.radius ** 2)\n",
        "\n",
        "class Rectangle(Shape):\n",
        "      def __init__(self, width, height):\n",
        "              self.width = width\n",
        "              self.height = height\n",
        "      def area(self):\n",
        "          return self.width * self.height\n",
        "\n",
        "circle = Circle(5)\n",
        "rectangle = Rectangle(4, 6)\n",
        "\n",
        "\n",
        "print(f\"Area of Circle: {circle.area()}\")\n",
        "print(f\"Area of Rectangle: {rectangle.area()}\")\n"
      ],
      "metadata": {
        "colab": {
          "base_uri": "https://localhost:8080/"
        },
        "id": "_PaOZzkeICsV",
        "outputId": "93286024-cb7b-494f-e4dd-e1c49150478f"
      },
      "execution_count": null,
      "outputs": [
        {
          "output_type": "stream",
          "name": "stdout",
          "text": [
            "Area of Circle: 78.53981633974483\n",
            "Area of Rectangle: 24\n"
          ]
        }
      ]
    },
    {
      "cell_type": "markdown",
      "source": [
        "3.Implement a multi-level inheritance scenario where a class Vehicle has an attribute type. Derive a class Car\n",
        "and further derive a class ElectricCar that adds a battery attribute.\n"
      ],
      "metadata": {
        "id": "2EIFUuSOKD0T"
      }
    },
    {
      "cell_type": "code",
      "source": [
        "class Vehicle:\n",
        "      def __init__(self, type):\n",
        "              self.type = type\n",
        "class Car(Vehicle):\n",
        "      def __init__(self, type, model):\n",
        "              super().__init__(type)  # Inherit type from Vehicle\n",
        "              self.model = model\n",
        "class ElectricCar(Car):\n",
        "      def __init__(self, type, model, battery):\n",
        "              super().__init__(type, model)  # Inherit type and model from Car\n",
        "              self.battery = battery\n",
        "vehicle = Vehicle(\"Truck\")\n",
        "car = Car(\"Sedan\", \"Toyota Camry\")\n",
        "electric_car = ElectricCar(\"SUV\", \"Tesla Model X\", \"100 kWh\")\n",
        "\n",
        "print(f\"Vehicle Type: {vehicle.type}\")\n",
        "print(f\"Car Model: {car.model}\")\n",
        "print(f\"Electric Car Model: {electric_car.model}, Battery: {electric_car.battery}\")\n"
      ],
      "metadata": {
        "colab": {
          "base_uri": "https://localhost:8080/"
        },
        "id": "DDeIIl6aKGvS",
        "outputId": "e9d1d80e-c1c9-4220-c86a-e457ae352913"
      },
      "execution_count": null,
      "outputs": [
        {
          "output_type": "stream",
          "name": "stdout",
          "text": [
            "Vehicle Type: Truck\n",
            "Car Model: Toyota Camry\n",
            "Electric Car Model: Tesla Model X, Battery: 100 kWh\n"
          ]
        }
      ]
    },
    {
      "cell_type": "markdown",
      "source": [
        "4.Demonstrate polymorphism by creating a base class Bird with a method fly(). Create two derived classes\n",
        "Sparrow and Penguin that override the fly() method"
      ],
      "metadata": {
        "id": "nYUgh0hhK4e8"
      }
    },
    {
      "cell_type": "code",
      "source": [
        "class Bird:\n",
        "      def fly(self):\n",
        "              print(\"Bird is flying\")\n",
        "class Sparrow(Bird):\n",
        "      def fly(self):\n",
        "              print(\"Sparrow is flying\")\n",
        "class Penguin(Bird):\n",
        "      def fly(self):\n",
        "              print(\"Penguin is not flying\")\n",
        "bird = Bird()\n",
        "sparrow = Sparrow()\n",
        "penguin = Penguin()\n",
        "\n",
        "\n",
        "bird.fly()\n",
        "sparrow.fly()\n",
        "penguin.fly()\n"
      ],
      "metadata": {
        "colab": {
          "base_uri": "https://localhost:8080/"
        },
        "id": "D-dFoTtVLBDZ",
        "outputId": "89230ee0-049b-4891-9944-70f819dda9e1"
      },
      "execution_count": null,
      "outputs": [
        {
          "output_type": "stream",
          "name": "stdout",
          "text": [
            "Bird is flying\n",
            "Sparrow is flying\n",
            "Penguin is not flying\n"
          ]
        }
      ]
    },
    {
      "cell_type": "markdown",
      "source": [
        "5. Write a program to demonstrate encapsulation by creating a class BankAccount with private attributes\n",
        "balance and methods to deposit, withdraw, and check balance.\n"
      ],
      "metadata": {
        "id": "5nUmcSUmLWde"
      }
    },
    {
      "cell_type": "code",
      "source": [
        "class BankAccount:\n",
        "  def __init__(self, balance):\n",
        "    self.__balance = balance\n",
        "\n",
        "\n",
        "  def deposit(self, amount):\n",
        "    if amount <= self.__balance:\n",
        "      self.__balance -= amount\n",
        "      print(f\"Deposited ${amount:.2f}. New balance: ${self.__balance:.2f}\")\n",
        "    else:\n",
        "      print(\"invalid deposit amount\")\n",
        "\n",
        "  def withdraw(self, amount):\n",
        "    if 0 < amount <= self.__balance:\n",
        "      self.__balance -= amount\n",
        "      print(f\"Withdrew ${amount:.2f}. New balance: ${self.__balance:.2f}\")\n",
        "    else:\n",
        "      print(\"Invalid withdrawal amount\")\n",
        "\n",
        "  def check_balance(self):\n",
        "    print(f\"Current balance: ${self.__balance:.2f}\")\n",
        "account = BankAccount(1000)\n",
        "\n",
        "account.deposit(500)\n",
        "account.withdraw(200)\n",
        "account.check_balance()\n"
      ],
      "metadata": {
        "colab": {
          "base_uri": "https://localhost:8080/"
        },
        "id": "B_VGiFteLcQD",
        "outputId": "89e4132c-c49d-41f2-bd6d-0fe3e67a6695"
      },
      "execution_count": null,
      "outputs": [
        {
          "output_type": "stream",
          "name": "stdout",
          "text": [
            "Deposited $500.00. New balance: $500.00\n",
            "Withdrew $200.00. New balance: $300.00\n",
            "Current balance: $300.00\n"
          ]
        }
      ]
    },
    {
      "cell_type": "markdown",
      "source": [
        "6.Demonstrate runtime polymorphism using a method play() in a base class Instrument. Derive classes Guitar\n",
        "and Piano that implement their own version of play().\n",
        "\n"
      ],
      "metadata": {
        "id": "h2tQhaAoNp9x"
      }
    },
    {
      "cell_type": "code",
      "source": [
        "\n",
        "\n",
        "class Instrument:\n",
        "    def play(self):\n",
        "            print(\"Playing the instrument\")\n",
        "class Guitar(Instrument):\n",
        "    def play(self):\n",
        "            print(\"Playing the guitar\")\n",
        "class Piano(Instrument):\n",
        "    def play(self):\n",
        "            print(\"Playing the piano\")\n",
        "# Create instances\n",
        "instrument = Instrument()\n",
        "guitar = Guitar()\n",
        "piano = Piano()\n",
        "\n",
        "instrument.play()\n",
        "guitar.play()\n",
        "piano.play()"
      ],
      "metadata": {
        "colab": {
          "base_uri": "https://localhost:8080/"
        },
        "id": "1WaxDLDHNtcs",
        "outputId": "9d9afcb6-6f5b-4b40-a12d-1ed4b4838f88"
      },
      "execution_count": null,
      "outputs": [
        {
          "output_type": "stream",
          "name": "stdout",
          "text": [
            "Playing the instrument\n",
            "Playing the guitar\n",
            "Playing the piano\n"
          ]
        }
      ]
    },
    {
      "cell_type": "markdown",
      "source": [
        "7.Create a class MathOperations with a class method add_numbers() to add two numbers and a static\n",
        "method subtract_numbers() to subtract two numbers.\n"
      ],
      "metadata": {
        "id": "zkuMlPDjOD4q"
      }
    },
    {
      "cell_type": "code",
      "source": [
        "class MathOperations:\n",
        "      @classmethod\n",
        "      def add_numbers(cls, a, b):\n",
        "              return a + b\n",
        "      @staticmethod\n",
        "      def subtract_numbers(a, b):\n",
        "              return a - b\n",
        "result1 = MathOperations.add_numbers(9, 3)\n",
        "result2 = MathOperations.subtract_numbers(2, 4)\n",
        "print(result1)\n",
        "print(result2)\n"
      ],
      "metadata": {
        "colab": {
          "base_uri": "https://localhost:8080/"
        },
        "id": "gc-zWSAZONNi",
        "outputId": "94fc3bb7-83de-4eac-9c25-8b00fca64a6d"
      },
      "execution_count": null,
      "outputs": [
        {
          "output_type": "stream",
          "name": "stdout",
          "text": [
            "12\n",
            "-2\n"
          ]
        }
      ]
    },
    {
      "cell_type": "markdown",
      "source": [
        "8. Implement a class Person with a class method to count the total number of persons created.\n"
      ],
      "metadata": {
        "id": "nA8ESUhNOjJe"
      }
    },
    {
      "cell_type": "code",
      "source": [
        "class Person:\n",
        "  person_count = 0\n",
        "  def __init__(self, name):\n",
        "    self.name = name\n",
        "    Person.person_count += 1\n",
        "  @classmethod\n",
        "  def get_person_count(cls):\n",
        "    return cls.person_count\n",
        "person1 = Person(\"Alice\")\n",
        "person2 = Person(\"Bob\")\n",
        "person3 = Person(\"Charlie\")\n",
        "\n",
        "total_persons = Person.get_person_count()\n",
        "print(f\"Total persons created: {total_persons}\")"
      ],
      "metadata": {
        "colab": {
          "base_uri": "https://localhost:8080/"
        },
        "id": "oYu4KB6FOoQ1",
        "outputId": "7886c417-2e47-456b-aad7-22cf2721fcb5"
      },
      "execution_count": null,
      "outputs": [
        {
          "output_type": "stream",
          "name": "stdout",
          "text": [
            "Total persons created: 3\n"
          ]
        }
      ]
    },
    {
      "cell_type": "markdown",
      "source": [
        "9. Write a class Fraction with attributes numerator and denominator. Override the str method to display the\n",
        "fraction as \"numerator/denominator\"."
      ],
      "metadata": {
        "id": "xzG7Q2kDPDN3"
      }
    },
    {
      "cell_type": "code",
      "source": [
        "class Fraction:\n",
        "      def __init__(self, numerator, denominator):\n",
        "              self.numerator = numerator\n",
        "              self.denominator = denominator\n",
        "      def __str__(self):\n",
        "              return f\"{self.numerator}/{self.denominator}\"\n",
        "fraction = Fraction(8, 5)\n",
        "print(fraction)\n"
      ],
      "metadata": {
        "colab": {
          "base_uri": "https://localhost:8080/"
        },
        "id": "JjSYs3R6PHWM",
        "outputId": "85cbbe6f-658d-42cd-bd2b-26bc2e15d55c"
      },
      "execution_count": null,
      "outputs": [
        {
          "output_type": "stream",
          "name": "stdout",
          "text": [
            "8/5\n"
          ]
        }
      ]
    },
    {
      "cell_type": "markdown",
      "source": [
        "10. Demonstrate operator overloading by creating a class Vector and overriding the add method to add two\n",
        "vectors."
      ],
      "metadata": {
        "id": "OOLjq2RNPXRe"
      }
    },
    {
      "cell_type": "code",
      "source": [
        "class Vector:\n",
        "      def __init__(self, x, y):\n",
        "              self.x = x\n",
        "              self.y = y\n",
        "\n",
        "      def __add__(self, other):\n",
        "\n",
        "          return Vector(self.x + other.x, self.y + other.y)\n",
        "      def __str__(self):\n",
        "              return f\"({self.x}, {self.y})\"\n",
        "\n",
        "v1 = Vector(9, 6)\n",
        "v2 = Vector(1, 8)\n",
        "result = v1 + v2\n",
        "print(result)"
      ],
      "metadata": {
        "colab": {
          "base_uri": "https://localhost:8080/"
        },
        "id": "FkfPUtaVPdWC",
        "outputId": "bef4e4b1-33d7-4b49-811f-5c05c51e4a25"
      },
      "execution_count": null,
      "outputs": [
        {
          "output_type": "stream",
          "name": "stdout",
          "text": [
            "(10, 14)\n"
          ]
        }
      ]
    },
    {
      "cell_type": "markdown",
      "source": [
        "11. Create a class Person with attributes name and age. Add a method greet() that prints \"Hello, my name is\n",
        "{name} and I am {age} years old.\""
      ],
      "metadata": {
        "id": "IBlzpw30QzVA"
      }
    },
    {
      "cell_type": "code",
      "source": [
        "class Person:\n",
        "    def __init__(self, name, age):\n",
        "        self.name = name\n",
        "        self.age = age\n",
        "    def greet(self):\n",
        "        print(f\"Hello, my name is {self.name} and I am {self.age} years old.\")\n",
        "person = Person(\"rohit\", 24)\n",
        "person.greet()"
      ],
      "metadata": {
        "colab": {
          "base_uri": "https://localhost:8080/"
        },
        "id": "x5TNPjczQ2Dw",
        "outputId": "ac6e7249-1e68-4268-f718-adccd0e0e916"
      },
      "execution_count": null,
      "outputs": [
        {
          "output_type": "stream",
          "name": "stdout",
          "text": [
            "Hello, my name is rohit and I am 24 years old.\n"
          ]
        }
      ]
    },
    {
      "cell_type": "markdown",
      "source": [
        "12. Implement a class Student with attributes name and grades. Create a method average_grade() to compute\n",
        "the average of the grades.\n"
      ],
      "metadata": {
        "id": "79GCi8EyRfxm"
      }
    },
    {
      "cell_type": "code",
      "source": [
        "class Student:\n",
        "  def __init__(self, name, grades):\n",
        "        self.name = name\n",
        "        self.grades = grades\n",
        "  def average_grade(self):\n",
        "        if self.grades:\n",
        "            return sum(self.grades) / len(self.grades)\n",
        "        else:\n",
        "          return 0\n",
        "\n",
        "student = Student(\"rohit\", [86, 88, 90])\n",
        "average = student.average_grade()\n",
        "print(f\"{student.name}'s average grade: {average}\")"
      ],
      "metadata": {
        "colab": {
          "base_uri": "https://localhost:8080/"
        },
        "id": "V59UGYGFRlKZ",
        "outputId": "0943c03f-46ae-4355-89fc-5224efbf70c6"
      },
      "execution_count": null,
      "outputs": [
        {
          "output_type": "stream",
          "name": "stdout",
          "text": [
            "rohit's average grade: 88.0\n"
          ]
        }
      ]
    },
    {
      "cell_type": "markdown",
      "source": [
        "13. Create a class Rectangle with methods set_dimensions() to set the dimensions and area() to calculate the\n",
        "area."
      ],
      "metadata": {
        "id": "tEDub9HRTtXw"
      }
    },
    {
      "cell_type": "code",
      "source": [
        "class Rectangle:\n",
        "    def __init__(self, width=0, height=0):\n",
        "        self.height = height\n",
        "        self.width = width\n",
        "    def set_dimensions(self, height, width):\n",
        "        self.height = height\n",
        "        self.width = width\n",
        "    def area(self):\n",
        "        return self.width * self.height\n",
        "rectangle = Rectangle()\n",
        "rectangle.set_dimensions(24, 6)\n",
        "area = rectangle.area()\n",
        "\n",
        "print(rectangle.area())"
      ],
      "metadata": {
        "colab": {
          "base_uri": "https://localhost:8080/"
        },
        "id": "WxTwqC_TTyw0",
        "outputId": "546dd8d7-a9fd-4436-f712-254125d41341"
      },
      "execution_count": null,
      "outputs": [
        {
          "output_type": "stream",
          "name": "stdout",
          "text": [
            "144\n"
          ]
        }
      ]
    },
    {
      "cell_type": "markdown",
      "source": [
        "14. Create a class Employee with a method calculate_salary() that computes the salary based on hours worked\n",
        "and hourly rate. Create a derived class Manager that adds a bonus to the salary."
      ],
      "metadata": {
        "id": "IfLWF41TVIQR"
      }
    },
    {
      "cell_type": "code",
      "source": [
        "class Employee:\n",
        "    def __init__(self, name, hours_worked, hourly_rate):\n",
        "        self.name = name\n",
        "        self.hours_worked = hours_worked\n",
        "        self.hourly_rate = hourly_rate\n",
        "\n",
        "    def calculate_salary(self):\n",
        "        return self.hours_worked * self.hourly_rate\n",
        "class Manager(Employee):\n",
        "    def __init__(self, name, hours_worked, hourly_rate, bonus):\n",
        "        super().__init__(name, hourly_rate, hours_worked)\n",
        "        self.bonus = bonus\n",
        "    def calculate_salary(self):\n",
        "        base_salary = super().calculate_salary()\n",
        "        return base_salary + self.bonus\n",
        "employee = Employee(\"rohit\", 8, 150)\n",
        "Manager = Manager(\"Mohit\", 8, 200, 200)\n",
        "print(employee.calculate_salary())\n",
        "print(Manager.calculate_salary())\n"
      ],
      "metadata": {
        "colab": {
          "base_uri": "https://localhost:8080/"
        },
        "id": "pnrGuL9FVLRQ",
        "outputId": "ffbece6f-2e4c-4838-f704-a5aa1644279d"
      },
      "execution_count": null,
      "outputs": [
        {
          "output_type": "stream",
          "name": "stdout",
          "text": [
            "1200\n",
            "1800\n"
          ]
        }
      ]
    },
    {
      "cell_type": "markdown",
      "source": [
        "15. Create a class Product with attributes name, price, and quantity. Implement a method total_price() that\n",
        "calculates the total price of the product.\n",
        "\n",
        "\n"
      ],
      "metadata": {
        "id": "IlmyKDJ0WGYq"
      }
    },
    {
      "cell_type": "code",
      "source": [
        "from itertools import product\n",
        "class Product:\n",
        "    def __init__(self, name, price, quantity):\n",
        "        self.name = name\n",
        "        self.price = price\n",
        "        self.quantity = quantity\n",
        "    def total_price(self):\n",
        "        return self.price * self.quantity\n",
        "\n",
        "product = Product(\"Mobile\", 31000, 5)\n",
        "total_cost = product.total_price()\n",
        "print(f\"Total cost of {product.quantity} {product.name}(s): ${total_cost}\")"
      ],
      "metadata": {
        "colab": {
          "base_uri": "https://localhost:8080/"
        },
        "id": "HFglZBGiWNfW",
        "outputId": "66602910-6049-46ca-93b2-8caa22aee351"
      },
      "execution_count": null,
      "outputs": [
        {
          "output_type": "stream",
          "name": "stdout",
          "text": [
            "Total cost of 5 Mobile(s): $155000\n"
          ]
        }
      ]
    },
    {
      "cell_type": "markdown",
      "source": [
        "16. Create a class Animal with an abstract method sound(). Create two derived classes Cow and Sheep that\n",
        "implement the sound() method."
      ],
      "metadata": {
        "id": "N-aWHW-QWp3R"
      }
    },
    {
      "cell_type": "code",
      "source": [
        "from abc import ABC, abstractmethod\n",
        "\n",
        "class Animal(ABC):\n",
        "    @abstractmethod\n",
        "    def sound(self):\n",
        "        pass\n",
        "class Cow(Animal):\n",
        "    def sound(self):\n",
        "        print(\"Moo!\")\n",
        "class Sheep(Animal):\n",
        "    def sound(self):\n",
        "        print(\"Baa!\")\n",
        "cow = Cow()\n",
        "sheep = Sheep()\n",
        "\n",
        "\n",
        "cow.sound()\n",
        "sheep.sound()"
      ],
      "metadata": {
        "colab": {
          "base_uri": "https://localhost:8080/"
        },
        "id": "qHqN6N1sW1V7",
        "outputId": "9e5d868d-6d47-4e3a-fff7-368c010ccc1a"
      },
      "execution_count": null,
      "outputs": [
        {
          "output_type": "stream",
          "name": "stdout",
          "text": [
            "Moo!\n",
            "Baa!\n"
          ]
        }
      ]
    },
    {
      "cell_type": "markdown",
      "source": [
        "17. Create a class Book with attributes title, author, and year_published. Add a method get_book_info() that\n",
        "returns a formatted string with the book's details.\n",
        "\n"
      ],
      "metadata": {
        "id": "XXq-DQWBXpZx"
      }
    },
    {
      "cell_type": "code",
      "source": [
        "class Book:\n",
        "    def __init__(self, title, author, year_published):\n",
        "        self.title = title\n",
        "        self.author = author\n",
        "        self.year_published = year_published\n",
        "    def get_book_info(self):\n",
        "        return f\"Title: {self.title}\\nAuthor: {self.author}\\nYear Published: {self.year_published}\"\n",
        "\n",
        "book = Book(\"Mahabharat\", \"Ved Vyasa\", 400)\n",
        "book_info = book.get_book_info()\n",
        "print(book_info)"
      ],
      "metadata": {
        "colab": {
          "base_uri": "https://localhost:8080/"
        },
        "id": "JczerujBXwT9",
        "outputId": "7df70c0c-fa7a-4a47-e097-6a1cd562fa50"
      },
      "execution_count": null,
      "outputs": [
        {
          "output_type": "stream",
          "name": "stdout",
          "text": [
            "Title: Mahabharat\n",
            "Author: Ved Vyasa\n",
            "Year Published: 400\n"
          ]
        }
      ]
    },
    {
      "cell_type": "markdown",
      "source": [
        "18. Create a class House with attributes address and price. Create a derived class Mansion that adds an\n",
        "attribute number_of_rooms."
      ],
      "metadata": {
        "id": "EH9R_m7pZIVa"
      }
    },
    {
      "cell_type": "code",
      "source": [
        "class House:\n",
        "    def __init__(self, address, price):\n",
        "        self.address = address\n",
        "        self.price = price\n",
        "class Mansion(House):\n",
        "    def __init__(self, address, price, number_of_rooms):\n",
        "        super().__init__(address, price)\n",
        "        self.number_of_rooms = number_of_rooms\n",
        "\n",
        "house = House(\"Royal 1\", 2411)\n",
        "mansion = Mansion(\"A 1\", 100, 5)\n",
        "print(house.address, house.price)\n",
        "print(mansion.address, mansion.price, mansion.number_of_rooms)"
      ],
      "metadata": {
        "colab": {
          "base_uri": "https://localhost:8080/"
        },
        "id": "ENsETNFuZPlv",
        "outputId": "8ca455af-7c39-48af-cba0-398877486761"
      },
      "execution_count": null,
      "outputs": [
        {
          "output_type": "stream",
          "name": "stdout",
          "text": [
            "Royal 1 2411\n",
            "A 1 100 5\n"
          ]
        }
      ]
    }
  ]
}